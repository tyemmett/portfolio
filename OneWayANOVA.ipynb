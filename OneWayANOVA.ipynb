{
  "nbformat": 4,
  "nbformat_minor": 0,
  "metadata": {
    "colab": {
      "provenance": [],
      "authorship_tag": "ABX9TyMBuy94tQ5Umn9KAFLI9oRp",
      "include_colab_link": true
    },
    "kernelspec": {
      "name": "python3",
      "display_name": "Python 3"
    },
    "language_info": {
      "name": "python"
    },
    "widgets": {
      "application/vnd.jupyter.widget-state+json": {
        "9967148779bb47c1891497208758ead4": {
          "model_module": "@jupyter-widgets/controls",
          "model_name": "DropdownModel",
          "model_module_version": "1.5.0",
          "state": {
            "_dom_classes": [],
            "_model_module": "@jupyter-widgets/controls",
            "_model_module_version": "1.5.0",
            "_model_name": "DropdownModel",
            "_options_labels": [
              "Region",
              "StoreSize"
            ],
            "_view_count": null,
            "_view_module": "@jupyter-widgets/controls",
            "_view_module_version": "1.5.0",
            "_view_name": "DropdownView",
            "description": "Categorical Var:",
            "description_tooltip": null,
            "disabled": false,
            "index": 1,
            "layout": "IPY_MODEL_02bcaadc3c3b432a9d3988e2a5a1cd1e",
            "style": "IPY_MODEL_af46b61b61f248a0a79fc458027d098b"
          }
        },
        "02bcaadc3c3b432a9d3988e2a5a1cd1e": {
          "model_module": "@jupyter-widgets/base",
          "model_name": "LayoutModel",
          "model_module_version": "1.2.0",
          "state": {
            "_model_module": "@jupyter-widgets/base",
            "_model_module_version": "1.2.0",
            "_model_name": "LayoutModel",
            "_view_count": null,
            "_view_module": "@jupyter-widgets/base",
            "_view_module_version": "1.2.0",
            "_view_name": "LayoutView",
            "align_content": null,
            "align_items": null,
            "align_self": null,
            "border": null,
            "bottom": null,
            "display": null,
            "flex": null,
            "flex_flow": null,
            "grid_area": null,
            "grid_auto_columns": null,
            "grid_auto_flow": null,
            "grid_auto_rows": null,
            "grid_column": null,
            "grid_gap": null,
            "grid_row": null,
            "grid_template_areas": null,
            "grid_template_columns": null,
            "grid_template_rows": null,
            "height": null,
            "justify_content": null,
            "justify_items": null,
            "left": null,
            "margin": null,
            "max_height": null,
            "max_width": null,
            "min_height": null,
            "min_width": null,
            "object_fit": null,
            "object_position": null,
            "order": null,
            "overflow": null,
            "overflow_x": null,
            "overflow_y": null,
            "padding": null,
            "right": null,
            "top": null,
            "visibility": null,
            "width": null
          }
        },
        "af46b61b61f248a0a79fc458027d098b": {
          "model_module": "@jupyter-widgets/controls",
          "model_name": "DescriptionStyleModel",
          "model_module_version": "1.5.0",
          "state": {
            "_model_module": "@jupyter-widgets/controls",
            "_model_module_version": "1.5.0",
            "_model_name": "DescriptionStyleModel",
            "_view_count": null,
            "_view_module": "@jupyter-widgets/base",
            "_view_module_version": "1.2.0",
            "_view_name": "StyleView",
            "description_width": ""
          }
        },
        "063bf20ca65d42f683fa634907a33db4": {
          "model_module": "@jupyter-widgets/controls",
          "model_name": "DropdownModel",
          "model_module_version": "1.5.0",
          "state": {
            "_dom_classes": [],
            "_model_module": "@jupyter-widgets/controls",
            "_model_module_version": "1.5.0",
            "_model_name": "DropdownModel",
            "_options_labels": [
              "Sales",
              "CustomerSatisfaction",
              "NumberOfEmployees"
            ],
            "_view_count": null,
            "_view_module": "@jupyter-widgets/controls",
            "_view_module_version": "1.5.0",
            "_view_name": "DropdownView",
            "description": "Continuous Var:",
            "description_tooltip": null,
            "disabled": false,
            "index": 1,
            "layout": "IPY_MODEL_5653757ff9f14bfeaad5d993fc318e14",
            "style": "IPY_MODEL_1c56dc1b78154480a460d85f1ff5defe"
          }
        },
        "5653757ff9f14bfeaad5d993fc318e14": {
          "model_module": "@jupyter-widgets/base",
          "model_name": "LayoutModel",
          "model_module_version": "1.2.0",
          "state": {
            "_model_module": "@jupyter-widgets/base",
            "_model_module_version": "1.2.0",
            "_model_name": "LayoutModel",
            "_view_count": null,
            "_view_module": "@jupyter-widgets/base",
            "_view_module_version": "1.2.0",
            "_view_name": "LayoutView",
            "align_content": null,
            "align_items": null,
            "align_self": null,
            "border": null,
            "bottom": null,
            "display": null,
            "flex": null,
            "flex_flow": null,
            "grid_area": null,
            "grid_auto_columns": null,
            "grid_auto_flow": null,
            "grid_auto_rows": null,
            "grid_column": null,
            "grid_gap": null,
            "grid_row": null,
            "grid_template_areas": null,
            "grid_template_columns": null,
            "grid_template_rows": null,
            "height": null,
            "justify_content": null,
            "justify_items": null,
            "left": null,
            "margin": null,
            "max_height": null,
            "max_width": null,
            "min_height": null,
            "min_width": null,
            "object_fit": null,
            "object_position": null,
            "order": null,
            "overflow": null,
            "overflow_x": null,
            "overflow_y": null,
            "padding": null,
            "right": null,
            "top": null,
            "visibility": null,
            "width": null
          }
        },
        "1c56dc1b78154480a460d85f1ff5defe": {
          "model_module": "@jupyter-widgets/controls",
          "model_name": "DescriptionStyleModel",
          "model_module_version": "1.5.0",
          "state": {
            "_model_module": "@jupyter-widgets/controls",
            "_model_module_version": "1.5.0",
            "_model_name": "DescriptionStyleModel",
            "_view_count": null,
            "_view_module": "@jupyter-widgets/base",
            "_view_module_version": "1.2.0",
            "_view_name": "StyleView",
            "description_width": ""
          }
        },
        "e66d34455a934361a132cf6a319d3041": {
          "model_module": "@jupyter-widgets/controls",
          "model_name": "FloatSliderModel",
          "model_module_version": "1.5.0",
          "state": {
            "_dom_classes": [],
            "_model_module": "@jupyter-widgets/controls",
            "_model_module_version": "1.5.0",
            "_model_name": "FloatSliderModel",
            "_view_count": null,
            "_view_module": "@jupyter-widgets/controls",
            "_view_module_version": "1.5.0",
            "_view_name": "FloatSliderView",
            "continuous_update": false,
            "description": "Alpha Level:",
            "description_tooltip": null,
            "disabled": false,
            "layout": "IPY_MODEL_b045657410e74ac5a15d71e969bf5f36",
            "max": 0.2,
            "min": 0.01,
            "orientation": "horizontal",
            "readout": true,
            "readout_format": ".2f",
            "step": 0.01,
            "style": "IPY_MODEL_9e7fe04c39804a809d8b4c68a06c89a6",
            "value": 0.05
          }
        },
        "b045657410e74ac5a15d71e969bf5f36": {
          "model_module": "@jupyter-widgets/base",
          "model_name": "LayoutModel",
          "model_module_version": "1.2.0",
          "state": {
            "_model_module": "@jupyter-widgets/base",
            "_model_module_version": "1.2.0",
            "_model_name": "LayoutModel",
            "_view_count": null,
            "_view_module": "@jupyter-widgets/base",
            "_view_module_version": "1.2.0",
            "_view_name": "LayoutView",
            "align_content": null,
            "align_items": null,
            "align_self": null,
            "border": null,
            "bottom": null,
            "display": null,
            "flex": null,
            "flex_flow": null,
            "grid_area": null,
            "grid_auto_columns": null,
            "grid_auto_flow": null,
            "grid_auto_rows": null,
            "grid_column": null,
            "grid_gap": null,
            "grid_row": null,
            "grid_template_areas": null,
            "grid_template_columns": null,
            "grid_template_rows": null,
            "height": null,
            "justify_content": null,
            "justify_items": null,
            "left": null,
            "margin": null,
            "max_height": null,
            "max_width": null,
            "min_height": null,
            "min_width": null,
            "object_fit": null,
            "object_position": null,
            "order": null,
            "overflow": null,
            "overflow_x": null,
            "overflow_y": null,
            "padding": null,
            "right": null,
            "top": null,
            "visibility": null,
            "width": null
          }
        },
        "9e7fe04c39804a809d8b4c68a06c89a6": {
          "model_module": "@jupyter-widgets/controls",
          "model_name": "SliderStyleModel",
          "model_module_version": "1.5.0",
          "state": {
            "_model_module": "@jupyter-widgets/controls",
            "_model_module_version": "1.5.0",
            "_model_name": "SliderStyleModel",
            "_view_count": null,
            "_view_module": "@jupyter-widgets/base",
            "_view_module_version": "1.2.0",
            "_view_name": "StyleView",
            "description_width": "",
            "handle_color": null
          }
        }
      }
    }
  },
  "cells": [
    {
      "cell_type": "markdown",
      "metadata": {
        "id": "view-in-github",
        "colab_type": "text"
      },
      "source": [
        "<a href=\"https://colab.research.google.com/github/tyemmett/portfolio/blob/main/OneWayANOVA.ipynb\" target=\"_parent\"><img src=\"https://colab.research.google.com/assets/colab-badge.svg\" alt=\"Open In Colab\"/></a>"
      ]
    },
    {
      "cell_type": "markdown",
      "source": [
        "Disclaimer:\n",
        "The author created this notebook for personal, experimental, and testing purposes with a limited scope. The functionality has not been extensively validated. Use this code at your own risk, and verify its applicability to your specific use case.\n",
        "\n",
        "## Project Description\n",
        "\n",
        "This project focuses on implementing statistical methods and data analysis techniques using Python. The primary goal is to perform a one-way ANOVA to compare group means and identify significant differences between categories in a dataset. Additionally, the project incorporates post-hoc analysis with Tukey’s HSD test to provide detailed pairwise comparisons, along with clear visualizations and structured interpretations of the results.\n",
        "\n",
        "The notebook includes dynamic features, such as:\n",
        "- Dropdown menus for selecting variables to analyze.\n",
        "- An adjustable alpha level slider for hypothesis testing.\n",
        "- Customized, user-friendly output that dynamically adapts to the dataset's categories.\n",
        "\n",
        "## Project Purpose\n",
        "\n",
        "The purpose of this project is to:\n",
        "\n",
        "1. **Demonstrate** the implementation of statistical analysis workflows in Python, suitable for use in exploratory data analysis or experimental research.\n",
        "2. **Provide** a modular, interactive framework for hypothesis testing that can be applied to a variety of datasets.\n",
        "3. **Facilitate learning** and experimentation with statistical methods by offering clear interpretations of results, including:\n",
        "   - Null and alternative hypotheses.\n",
        "   - Statistical outcomes and business implications.\n",
        "4. **Offer a flexible tool** for researchers, analysts, or students to test and visualize group differences effectively.\n",
        "\n",
        "This project serves as an educational tool and a demonstration of Python’s capabilities for statistical analysis. It encourages users to adapt and expand the framework for their own datasets and use cases.\n",
        "\n",
        "\n"
      ],
      "metadata": {
        "id": "YDnOLgnny4nx"
      }
    },
    {
      "cell_type": "markdown",
      "source": [
        "Import Libraries and upload file"
      ],
      "metadata": {
        "id": "v8scJFL0x6Pi"
      }
    },
    {
      "cell_type": "code",
      "source": [
        "import pandas as pd\n",
        "from google.colab import files\n",
        "from io import BytesIO\n",
        "import xml.etree.ElementTree as ET\n",
        "import json\n",
        "import scipy.stats as stats\n",
        "from statsmodels.stats.multicomp import pairwise_tukeyhsd\n",
        "import matplotlib.pyplot as plt\n",
        "import seaborn as sns\n",
        "from scipy.stats import shapiro, levene, f_oneway\n",
        "from IPython.display import display\n",
        "import ipywidgets as widgets\n",
        "\n",
        "\n",
        "# File upload\n",
        "uploaded = files.upload()\n",
        "file_name = list(uploaded.keys())[0]\n",
        "\n",
        "# Load data based on file type\n",
        "if file_name.endswith('.csv'):\n",
        "    data = pd.read_csv(BytesIO(uploaded[file_name]))\n",
        "elif file_name.endswith('.xlsx'):\n",
        "    data = pd.read_excel(BytesIO(uploaded[file_name]))\n",
        "elif file_name.endswith('.txt'):\n",
        "    data = pd.read_csv(BytesIO(uploaded[file_name]), delimiter='\\t')  # adjust delimiter as needed\n",
        "elif file_name.endswith('.xml'):\n",
        "    tree = ET.parse(BytesIO(uploaded[file_name]))\n",
        "    root = tree.getroot()\n",
        "    data = pd.DataFrame([{elem.tag: elem.text for elem in record} for record in root])\n",
        "elif file_name.endswith('.json'):\n",
        "    with open(BytesIO(uploaded[file_name])) as f:\n",
        "        json_data = json.load(f)\n",
        "        data = pd.json_normalize(json_data)\n",
        "else:\n",
        "    raise ValueError(\"Unsupported file format. Please upload a CSV, Excel, TXT, XML, or JSON file.\")\n",
        "\n",
        "# Display the first few rows of the data\n",
        "print(\"Data Preview:\")\n",
        "print(data.head())\n"
      ],
      "metadata": {
        "colab": {
          "base_uri": "https://localhost:8080/",
          "height": 194
        },
        "id": "gNecdTWRsg2t",
        "outputId": "d4394797-dbdb-4f2d-b622-1176f751f61b"
      },
      "execution_count": 1,
      "outputs": [
        {
          "output_type": "display_data",
          "data": {
            "text/plain": [
              "<IPython.core.display.HTML object>"
            ],
            "text/html": [
              "\n",
              "     <input type=\"file\" id=\"files-7f228cda-dbd4-4e14-9334-3fe56ec6f582\" name=\"files[]\" multiple disabled\n",
              "        style=\"border:none\" />\n",
              "     <output id=\"result-7f228cda-dbd4-4e14-9334-3fe56ec6f582\">\n",
              "      Upload widget is only available when the cell has been executed in the\n",
              "      current browser session. Please rerun this cell to enable.\n",
              "      </output>\n",
              "      <script>// Copyright 2017 Google LLC\n",
              "//\n",
              "// Licensed under the Apache License, Version 2.0 (the \"License\");\n",
              "// you may not use this file except in compliance with the License.\n",
              "// You may obtain a copy of the License at\n",
              "//\n",
              "//      http://www.apache.org/licenses/LICENSE-2.0\n",
              "//\n",
              "// Unless required by applicable law or agreed to in writing, software\n",
              "// distributed under the License is distributed on an \"AS IS\" BASIS,\n",
              "// WITHOUT WARRANTIES OR CONDITIONS OF ANY KIND, either express or implied.\n",
              "// See the License for the specific language governing permissions and\n",
              "// limitations under the License.\n",
              "\n",
              "/**\n",
              " * @fileoverview Helpers for google.colab Python module.\n",
              " */\n",
              "(function(scope) {\n",
              "function span(text, styleAttributes = {}) {\n",
              "  const element = document.createElement('span');\n",
              "  element.textContent = text;\n",
              "  for (const key of Object.keys(styleAttributes)) {\n",
              "    element.style[key] = styleAttributes[key];\n",
              "  }\n",
              "  return element;\n",
              "}\n",
              "\n",
              "// Max number of bytes which will be uploaded at a time.\n",
              "const MAX_PAYLOAD_SIZE = 100 * 1024;\n",
              "\n",
              "function _uploadFiles(inputId, outputId) {\n",
              "  const steps = uploadFilesStep(inputId, outputId);\n",
              "  const outputElement = document.getElementById(outputId);\n",
              "  // Cache steps on the outputElement to make it available for the next call\n",
              "  // to uploadFilesContinue from Python.\n",
              "  outputElement.steps = steps;\n",
              "\n",
              "  return _uploadFilesContinue(outputId);\n",
              "}\n",
              "\n",
              "// This is roughly an async generator (not supported in the browser yet),\n",
              "// where there are multiple asynchronous steps and the Python side is going\n",
              "// to poll for completion of each step.\n",
              "// This uses a Promise to block the python side on completion of each step,\n",
              "// then passes the result of the previous step as the input to the next step.\n",
              "function _uploadFilesContinue(outputId) {\n",
              "  const outputElement = document.getElementById(outputId);\n",
              "  const steps = outputElement.steps;\n",
              "\n",
              "  const next = steps.next(outputElement.lastPromiseValue);\n",
              "  return Promise.resolve(next.value.promise).then((value) => {\n",
              "    // Cache the last promise value to make it available to the next\n",
              "    // step of the generator.\n",
              "    outputElement.lastPromiseValue = value;\n",
              "    return next.value.response;\n",
              "  });\n",
              "}\n",
              "\n",
              "/**\n",
              " * Generator function which is called between each async step of the upload\n",
              " * process.\n",
              " * @param {string} inputId Element ID of the input file picker element.\n",
              " * @param {string} outputId Element ID of the output display.\n",
              " * @return {!Iterable<!Object>} Iterable of next steps.\n",
              " */\n",
              "function* uploadFilesStep(inputId, outputId) {\n",
              "  const inputElement = document.getElementById(inputId);\n",
              "  inputElement.disabled = false;\n",
              "\n",
              "  const outputElement = document.getElementById(outputId);\n",
              "  outputElement.innerHTML = '';\n",
              "\n",
              "  const pickedPromise = new Promise((resolve) => {\n",
              "    inputElement.addEventListener('change', (e) => {\n",
              "      resolve(e.target.files);\n",
              "    });\n",
              "  });\n",
              "\n",
              "  const cancel = document.createElement('button');\n",
              "  inputElement.parentElement.appendChild(cancel);\n",
              "  cancel.textContent = 'Cancel upload';\n",
              "  const cancelPromise = new Promise((resolve) => {\n",
              "    cancel.onclick = () => {\n",
              "      resolve(null);\n",
              "    };\n",
              "  });\n",
              "\n",
              "  // Wait for the user to pick the files.\n",
              "  const files = yield {\n",
              "    promise: Promise.race([pickedPromise, cancelPromise]),\n",
              "    response: {\n",
              "      action: 'starting',\n",
              "    }\n",
              "  };\n",
              "\n",
              "  cancel.remove();\n",
              "\n",
              "  // Disable the input element since further picks are not allowed.\n",
              "  inputElement.disabled = true;\n",
              "\n",
              "  if (!files) {\n",
              "    return {\n",
              "      response: {\n",
              "        action: 'complete',\n",
              "      }\n",
              "    };\n",
              "  }\n",
              "\n",
              "  for (const file of files) {\n",
              "    const li = document.createElement('li');\n",
              "    li.append(span(file.name, {fontWeight: 'bold'}));\n",
              "    li.append(span(\n",
              "        `(${file.type || 'n/a'}) - ${file.size} bytes, ` +\n",
              "        `last modified: ${\n",
              "            file.lastModifiedDate ? file.lastModifiedDate.toLocaleDateString() :\n",
              "                                    'n/a'} - `));\n",
              "    const percent = span('0% done');\n",
              "    li.appendChild(percent);\n",
              "\n",
              "    outputElement.appendChild(li);\n",
              "\n",
              "    const fileDataPromise = new Promise((resolve) => {\n",
              "      const reader = new FileReader();\n",
              "      reader.onload = (e) => {\n",
              "        resolve(e.target.result);\n",
              "      };\n",
              "      reader.readAsArrayBuffer(file);\n",
              "    });\n",
              "    // Wait for the data to be ready.\n",
              "    let fileData = yield {\n",
              "      promise: fileDataPromise,\n",
              "      response: {\n",
              "        action: 'continue',\n",
              "      }\n",
              "    };\n",
              "\n",
              "    // Use a chunked sending to avoid message size limits. See b/62115660.\n",
              "    let position = 0;\n",
              "    do {\n",
              "      const length = Math.min(fileData.byteLength - position, MAX_PAYLOAD_SIZE);\n",
              "      const chunk = new Uint8Array(fileData, position, length);\n",
              "      position += length;\n",
              "\n",
              "      const base64 = btoa(String.fromCharCode.apply(null, chunk));\n",
              "      yield {\n",
              "        response: {\n",
              "          action: 'append',\n",
              "          file: file.name,\n",
              "          data: base64,\n",
              "        },\n",
              "      };\n",
              "\n",
              "      let percentDone = fileData.byteLength === 0 ?\n",
              "          100 :\n",
              "          Math.round((position / fileData.byteLength) * 100);\n",
              "      percent.textContent = `${percentDone}% done`;\n",
              "\n",
              "    } while (position < fileData.byteLength);\n",
              "  }\n",
              "\n",
              "  // All done.\n",
              "  yield {\n",
              "    response: {\n",
              "      action: 'complete',\n",
              "    }\n",
              "  };\n",
              "}\n",
              "\n",
              "scope.google = scope.google || {};\n",
              "scope.google.colab = scope.google.colab || {};\n",
              "scope.google.colab._files = {\n",
              "  _uploadFiles,\n",
              "  _uploadFilesContinue,\n",
              "};\n",
              "})(self);\n",
              "</script> "
            ]
          },
          "metadata": {}
        },
        {
          "output_type": "stream",
          "name": "stdout",
          "text": [
            "Saving extended_test_anova_dataset.xlsx to extended_test_anova_dataset.xlsx\n",
            "Data Preview:\n",
            "  Region  StoreSize        Sales  CustomerSatisfaction  NumberOfEmployees\n",
            "0   East          2  4005.892530              7.952669                 39\n",
            "1   West          2  4780.290790              5.379699                 39\n",
            "2  North          5  3730.974475              5.041454                 40\n",
            "3   East          3  3766.265947              5.873857                 22\n",
            "4   East          4  6630.090535              5.461750                 43\n"
          ]
        }
      ]
    },
    {
      "cell_type": "markdown",
      "source": [
        "Automatic Variable Detection with Categorical Confirmation"
      ],
      "metadata": {
        "id": "nqNw20600CX8"
      }
    },
    {
      "cell_type": "code",
      "source": [
        "# Initial variable detection\n",
        "continuous_vars = []\n",
        "categorical_vars = []\n",
        "potential_categorical_numeric = {}\n",
        "\n",
        "for column in data.columns:\n",
        "    unique_values = data[column].nunique()\n",
        "    if pd.api.types.is_numeric_dtype(data[column]):\n",
        "        # Treat as continuous if many unique values, else flag as potential categorical\n",
        "        if unique_values > 10:\n",
        "            continuous_vars.append(column)\n",
        "        else:\n",
        "            potential_categorical_numeric[column] = unique_values\n",
        "    else:\n",
        "        categorical_vars.append(column)\n",
        "\n",
        "# Display detected variables\n",
        "print(\"Detected Continuous Variables:\", continuous_vars)\n",
        "print(\"Detected Categorical Variables:\", categorical_vars)\n",
        "print(\"Potential Numeric Categorical Variables:\", potential_categorical_numeric)\n",
        "\n",
        "# Confirm potential numeric categorical variables\n",
        "for column, unique_count in potential_categorical_numeric.items():\n",
        "    user_input = input(f\"Should '{column}' with {unique_count} unique values be treated as categorical? (yes/no): \")\n",
        "\n",
        "    if user_input.lower() == 'yes':\n",
        "        categorical_vars.append(column)\n",
        "        continuous_vars = [var for var in continuous_vars if var != column]\n",
        "\n",
        "        # Map numeric values to descriptions if confirmed as categorical\n",
        "        print(f\"Please enter labels for each unique value in '{column}'\")\n",
        "        unique_values = data[column].unique()\n",
        "        mapping = {}\n",
        "        for value in unique_values:\n",
        "            label = input(f\"Label for {value}: \")\n",
        "            mapping[value] = label\n",
        "        data[column] = data[column].map(mapping)\n",
        "\n",
        "    elif user_input.lower() == 'no':\n",
        "        # Ask if it should be treated as continuous\n",
        "        user_input_continuous = input(f\"Should '{column}' be treated as continuous? (yes/no): \")\n",
        "\n",
        "        if user_input_continuous.lower() == 'yes':\n",
        "            continuous_vars.append(column)\n",
        "            categorical_vars = [var for var in categorical_vars if var != column]\n",
        "        else:\n",
        "            # Ignore the variable if the user answers \"no\" again\n",
        "            print(f\"Variable '{column}' ignored.\")\n"
      ],
      "metadata": {
        "colab": {
          "base_uri": "https://localhost:8080/"
        },
        "id": "VrsdeDF50Nsd",
        "outputId": "c03967e5-a0dd-459e-8a6d-44f52a76479a"
      },
      "execution_count": 2,
      "outputs": [
        {
          "name": "stdout",
          "output_type": "stream",
          "text": [
            "Detected Continuous Variables: ['Sales', 'CustomerSatisfaction', 'NumberOfEmployees']\n",
            "Detected Categorical Variables: ['Region']\n",
            "Potential Numeric Categorical Variables: {'StoreSize': 5}\n",
            "Should 'StoreSize' with 5 unique values be treated as categorical? (yes/no): yes\n",
            "Please enter labels for each unique value in 'StoreSize'\n",
            "Label for 2: small\n",
            "Label for 5: huge\n",
            "Label for 3: reg\n",
            "Label for 4: big\n",
            "Label for 1: tiny\n"
          ]
        }
      ]
    },
    {
      "cell_type": "markdown",
      "source": [
        "Dropdown Variable Selection, alpha level selection"
      ],
      "metadata": {
        "id": "nEEDDb0647du"
      }
    },
    {
      "cell_type": "code",
      "source": [
        "# Dropdown for categorical variable selection\n",
        "categorical_dropdown = widgets.Dropdown(\n",
        "    options=categorical_vars,\n",
        "    description='Categorical Var:',\n",
        "    disabled=False,\n",
        ")\n",
        "\n",
        "# Dropdown for continuous variable selection\n",
        "continuous_dropdown = widgets.Dropdown(\n",
        "    options=continuous_vars,\n",
        "    description='Continuous Var:',\n",
        "    disabled=False,\n",
        ")\n",
        "\n",
        "# Text field for alpha level\n",
        "alpha_slider = widgets.FloatSlider(\n",
        "    value=0.05,\n",
        "    min=0.01,\n",
        "    max=0.2,\n",
        "    step=0.01,\n",
        "    description='Alpha Level:',\n",
        "    continuous_update=False,\n",
        ")\n",
        "# Get slider value\n",
        "alpha_level = alpha_slider.value\n",
        "\n",
        "# Callback function to update alpha level dynamically\n",
        "def on_alpha_change(change):\n",
        "    global alpha_level\n",
        "    alpha_level = change['new']  # Update alpha_level with the new slider value\n",
        "    print(f\"Alpha level updated to: {alpha_level}\")\n",
        "\n",
        "# Attach the callback to the slider\n",
        "alpha_slider.observe(on_alpha_change, names='value')\n",
        "\n",
        "# Display the widgets\n",
        "display(categorical_dropdown, continuous_dropdown, alpha_slider)\n",
        "\n",
        "# Confirm selection\n",
        "print(\"Please select the categorical and continuous variables and adjust the alpha level above.\")"
      ],
      "metadata": {
        "colab": {
          "base_uri": "https://localhost:8080/",
          "height": 126,
          "referenced_widgets": [
            "9967148779bb47c1891497208758ead4",
            "02bcaadc3c3b432a9d3988e2a5a1cd1e",
            "af46b61b61f248a0a79fc458027d098b",
            "063bf20ca65d42f683fa634907a33db4",
            "5653757ff9f14bfeaad5d993fc318e14",
            "1c56dc1b78154480a460d85f1ff5defe",
            "e66d34455a934361a132cf6a319d3041",
            "b045657410e74ac5a15d71e969bf5f36",
            "9e7fe04c39804a809d8b4c68a06c89a6"
          ]
        },
        "id": "CKKl7DXC4-ei",
        "outputId": "3dd4de5f-156b-4302-d8af-f21cf20008ce"
      },
      "execution_count": 3,
      "outputs": [
        {
          "output_type": "display_data",
          "data": {
            "text/plain": [
              "Dropdown(description='Categorical Var:', options=('Region', 'StoreSize'), value='Region')"
            ],
            "application/vnd.jupyter.widget-view+json": {
              "version_major": 2,
              "version_minor": 0,
              "model_id": "9967148779bb47c1891497208758ead4"
            }
          },
          "metadata": {}
        },
        {
          "output_type": "display_data",
          "data": {
            "text/plain": [
              "Dropdown(description='Continuous Var:', options=('Sales', 'CustomerSatisfaction', 'NumberOfEmployees'), value=…"
            ],
            "application/vnd.jupyter.widget-view+json": {
              "version_major": 2,
              "version_minor": 0,
              "model_id": "063bf20ca65d42f683fa634907a33db4"
            }
          },
          "metadata": {}
        },
        {
          "output_type": "display_data",
          "data": {
            "text/plain": [
              "FloatSlider(value=0.05, continuous_update=False, description='Alpha Level:', max=0.2, min=0.01, step=0.01)"
            ],
            "application/vnd.jupyter.widget-view+json": {
              "version_major": 2,
              "version_minor": 0,
              "model_id": "e66d34455a934361a132cf6a319d3041"
            }
          },
          "metadata": {}
        },
        {
          "output_type": "stream",
          "name": "stdout",
          "text": [
            "Please select the categorical and continuous variables and adjust the alpha level above.\n"
          ]
        }
      ]
    },
    {
      "cell_type": "markdown",
      "source": [
        "Data Validation Steps (Using Selected Variables)"
      ],
      "metadata": {
        "id": "oLy5Pv_l5Nxu"
      }
    },
    {
      "cell_type": "code",
      "source": [
        "# Capture dropdown selection values\n",
        "categorical_column = categorical_dropdown.value\n",
        "continuous_column = continuous_dropdown.value\n",
        "\n",
        "# Check for missing values\n",
        "if data[categorical_column].isnull().sum() > 0 or data[continuous_column].isnull().sum() > 0:\n",
        "    print(f\"\\nMissing values detected in '{categorical_column}' or '{continuous_column}' columns.\")\n",
        "    user_input = input(\"Would you like to fill or drop missing values? Enter 'fill', 'drop', or 'skip': \").lower()\n",
        "\n",
        "    if user_input == 'fill':\n",
        "        fill_value = input(\"Enter a value to fill missing entries: \")\n",
        "        data[categorical_column].fillna(fill_value, inplace=True)\n",
        "        data[continuous_column].fillna(fill_value, inplace=True)\n",
        "    elif user_input == 'drop':\n",
        "        data.dropna(subset=[categorical_column, continuous_column], inplace=True)\n",
        "    else:\n",
        "        print(\"Skipping missing value handling.\")\n",
        "else:\n",
        "    print(\"\\nNo missing values detected.\")\n",
        "\n",
        "# Ensure adequate group size\n",
        "group_sizes = data[categorical_column].value_counts()\n",
        "small_groups = group_sizes[group_sizes < 2]\n",
        "if not small_groups.empty:\n",
        "    print(\"\\nWarning: Some categories have fewer than 2 observations, which may affect ANOVA accuracy.\")\n",
        "    print(\"Small groups found:\\n\", small_groups)\n",
        "\n",
        "# Ensure continuous variable is numeric\n",
        "data[continuous_column] = pd.to_numeric(data[continuous_column], errors='coerce')\n",
        "if data[continuous_column].isnull().any():\n",
        "    print(f\"\\nNon-numeric values detected in '{continuous_column}' after conversion.\")\n",
        "    action = input(\"Would you like to drop or fill non-numeric entries? Enter 'drop', 'fill', or 'skip': \").lower()\n",
        "    if action == 'fill':\n",
        "        fill_value = float(input(\"Enter a numeric value to fill non-numeric entries: \"))\n",
        "        data[continuous_column].fillna(fill_value, inplace=True)\n",
        "    elif action == 'drop':\n",
        "        data.dropna(subset=[continuous_column], inplace=True)\n"
      ],
      "metadata": {
        "colab": {
          "base_uri": "https://localhost:8080/"
        },
        "id": "TEzAbyG15OsR",
        "outputId": "d2939fac-935d-4a39-f410-cd80ad264a04"
      },
      "execution_count": 4,
      "outputs": [
        {
          "output_type": "stream",
          "name": "stdout",
          "text": [
            "\n",
            "No missing values detected.\n"
          ]
        }
      ]
    },
    {
      "cell_type": "markdown",
      "source": [
        "Normality and Homogeneity Checks"
      ],
      "metadata": {
        "id": "Eysogr6i5Wc7"
      }
    },
    {
      "cell_type": "code",
      "source": [
        "#helper function to format p-values\n",
        "def format_p_value(p_value, threshold=1e-5):\n",
        "    if p_value < threshold:\n",
        "        return \"tiny\"\n",
        "    else:\n",
        "        return f\"{p_value:.5f}\"\n",
        "\n",
        "# Normality check (Shapiro-Wilk test)\n",
        "print(\"\\nNormality Check (Shapiro-Wilk test) for each group:\")\n",
        "normality_issues = False\n",
        "for level in data[categorical_column].unique():\n",
        "    group_data = data[data[categorical_column] == level][continuous_column]\n",
        "    stat, p_value = shapiro(group_data)\n",
        "    print(f\"Group '{level}' - p-value: {format_p_value(p_value)}\")\n",
        "    if p_value < alpha_level:\n",
        "        normality_issues = True\n",
        "\n",
        "if normality_issues:\n",
        "    print(\"Warning: Some groups do not meet the normality assumption for ANOVA.\")\n",
        "\n",
        "# Homogeneity of variance check (Levene's test)\n",
        "stat, p_value = levene(*(data[data[categorical_column] == level][continuous_column]\n",
        "                         for level in data[categorical_column].unique()))\n",
        "print(\"\\nLevene's Test for Homogeneity of Variance - p-value:\", format_p_value(p_value))\n",
        "if p_value < alpha_level:\n",
        "    print(\"Warning: Variances across groups are significantly different. This may affect ANOVA validity.\")\n",
        "else:\n",
        "    print(\"Variances across groups meet the homogeneity assumption.\")\n",
        "\n"
      ],
      "metadata": {
        "colab": {
          "base_uri": "https://localhost:8080/"
        },
        "id": "Kb_W9zFL5aZp",
        "outputId": "642459c0-9916-4cf3-ceb4-eb17d7f4cd6a"
      },
      "execution_count": 5,
      "outputs": [
        {
          "output_type": "stream",
          "name": "stdout",
          "text": [
            "\n",
            "Normality Check (Shapiro-Wilk test) for each group:\n",
            "Group 'small' - p-value: 0.06071\n",
            "Group 'huge' - p-value: 0.44329\n",
            "Group 'reg' - p-value: 0.07777\n",
            "Group 'big' - p-value: 0.30719\n",
            "Group 'tiny' - p-value: 0.94457\n",
            "\n",
            "Levene's Test for Homogeneity of Variance - p-value: 0.96686\n",
            "Variances across groups meet the homogeneity assumption.\n"
          ]
        }
      ]
    },
    {
      "cell_type": "markdown",
      "source": [
        "Perform One-Way ANOVA and Tukey Test"
      ],
      "metadata": {
        "id": "42C8jwnB5dAM"
      }
    },
    {
      "cell_type": "code",
      "source": [
        "# Function to display detailed results\n",
        "def display_analysis_results(alpha_level, f_stat, p_value, categories, continuous_var_name):\n",
        "    # Null and alternative hypotheses\n",
        "    null_hypothesis = f\"H₀: The means of {continuous_var_name} for the categories {', '.join(categories)} are equal.\"\n",
        "    alternative_hypothesis = f\"H₁: At least one mean of {continuous_var_name} among the categories {', '.join(categories)} is significantly different.\"\n",
        "\n",
        "    # Statistical outcome\n",
        "    if p_value < alpha_level:\n",
        "        statistical_outcome = \"Reject the null hypothesis.\"\n",
        "        business_conclusion = (\n",
        "            f\"There are significant differences between the means of {continuous_var_name} for the categories {', '.join(categories)}.\"\n",
        "        )\n",
        "    else:\n",
        "        statistical_outcome = \"Fail to reject the null hypothesis.\"\n",
        "        business_conclusion = (\n",
        "            f\"There are no significant differences between the means of {continuous_var_name} for the categories {', '.join(categories)}.\"\n",
        "        )\n",
        "\n",
        "    # Display the results\n",
        "    print(\"=== Analysis Results ===\")\n",
        "    print(null_hypothesis)\n",
        "    print(alternative_hypothesis)\n",
        "    print(f\"Alpha Level: {alpha_level}\")\n",
        "    print(f\"F-Value: {f_stat:.4f}\")\n",
        "    print(f\"P-Value: {format_p_value(p_value)}\")\n",
        "    print(f\"Statistical Outcome: {statistical_outcome}\")\n",
        "    print(f\"Business Conclusion: {business_conclusion}\")\n",
        "    print(\"========================\")\n",
        "\n",
        "# Perform One-Way ANOVA\n",
        "categories = data[categorical_column].unique()  # Get unique categories\n",
        "anova_result = f_oneway(*(data[data[categorical_column] == level][continuous_column]\n",
        "                          for level in categories))\n",
        "\n",
        "# Display detailed ANOVA results\n",
        "display_analysis_results(alpha_level, anova_result.statistic, anova_result.pvalue, categories, continuous_column)\n",
        "\n",
        "# Perform Tukey's HSD Test\n",
        "tukey_result = pairwise_tukeyhsd(data[continuous_column], data[categorical_column])\n",
        "print(\"\\nTukey's HSD Test Result:\")\n",
        "print(tukey_result)\n",
        "\n",
        "# Visualization\n",
        "plt.figure(figsize=(10, 6))\n",
        "sns.boxplot(x=categorical_column, y=continuous_column, data=data)\n",
        "plt.title(f\"Boxplot of {continuous_column} by {categorical_column}\")\n",
        "plt.xlabel(categorical_column)\n",
        "plt.ylabel(continuous_column)\n",
        "plt.show()\n",
        "\n"
      ],
      "metadata": {
        "colab": {
          "base_uri": "https://localhost:8080/",
          "height": 1000
        },
        "id": "DDMkRnT15fNE",
        "outputId": "2bfcf3cc-da24-4041-8bc3-410f0d085834"
      },
      "execution_count": 6,
      "outputs": [
        {
          "output_type": "stream",
          "name": "stdout",
          "text": [
            "=== Analysis Results ===\n",
            "H₀: The means of CustomerSatisfaction for the categories small, huge, reg, big, tiny are equal.\n",
            "H₁: At least one mean of CustomerSatisfaction among the categories small, huge, reg, big, tiny is significantly different.\n",
            "Alpha Level: 0.05\n",
            "F-Value: 0.9286\n",
            "P-Value: 0.45078\n",
            "Statistical Outcome: Fail to reject the null hypothesis.\n",
            "Business Conclusion: There are no significant differences between the means of CustomerSatisfaction for the categories small, huge, reg, big, tiny.\n",
            "========================\n",
            "\n",
            "Tukey's HSD Test Result:\n",
            "Multiple Comparison of Means - Tukey HSD, FWER=0.05\n",
            "===================================================\n",
            "group1 group2 meandiff p-adj   lower  upper  reject\n",
            "---------------------------------------------------\n",
            "   big   huge   0.5235 0.8223 -0.8393 1.8862  False\n",
            "   big    reg   0.2461 0.9846 -1.0569 1.5492  False\n",
            "   big  small  -0.1557 0.9969 -1.4135 1.1021  False\n",
            "   big   tiny   0.5253 0.7603  -0.708 1.7585  False\n",
            "  huge    reg  -0.2773 0.9797   -1.64 1.0854  False\n",
            "  huge  small  -0.6792 0.6092 -1.9988 0.6404  False\n",
            "  huge   tiny   0.0018    1.0 -1.2944  1.298  False\n",
            "   reg  small  -0.4019 0.9005 -1.6597 0.8559  False\n",
            "   reg   tiny   0.2791   0.97 -0.9542 1.5124  False\n",
            " small   tiny    0.681 0.5027 -0.5044 1.8664  False\n",
            "---------------------------------------------------\n"
          ]
        },
        {
          "output_type": "display_data",
          "data": {
            "text/plain": [
              "<Figure size 1000x600 with 1 Axes>"
            ],
            "image/png": "[encoded data removed]"
          },
          "metadata": {}
        }
      ]
    },
    {
      "cell_type": "markdown",
      "source": [
        "In this cell I am trying to understand the difference between scipy and SAS in conducting a test for homogeneity of variance. This method is most similar to SAS."
      ],
      "metadata": {
        "id": "VIoRvgDRbvv9"
      }
    },
    {
      "cell_type": "code",
      "source": [
        "squared_deviations = [(data[data[categorical_column] == level][continuous_column] -\n",
        "                       data[data[categorical_column] == level][continuous_column].mean()) ** 2\n",
        "                      for level in data[categorical_column].unique()]\n",
        "anova_result = f_oneway(*squared_deviations)\n",
        "print(\"ANOVA of Squared Deviations - F-statistic:\", anova_result.statistic, \"p-value:\", format_p_value(anova_result.pvalue))\n"
      ],
      "metadata": {
        "colab": {
          "base_uri": "https://localhost:8080/"
        },
        "id": "wzSKxGi6D62C",
        "outputId": "6ffca283-bc0d-432d-84ac-377115d81c98"
      },
      "execution_count": 7,
      "outputs": [
        {
          "output_type": "stream",
          "name": "stdout",
          "text": [
            "ANOVA of Squared Deviations - F-statistic: 0.04757217032769223 p-value: 0.99567\n"
          ]
        }
      ]
    }
  ]
}